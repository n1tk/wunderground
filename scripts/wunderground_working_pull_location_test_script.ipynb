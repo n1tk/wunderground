{
 "cells": [
  {
   "cell_type": "code",
   "execution_count": 7,
   "metadata": {
    "collapsed": false
   },
   "outputs": [
    {
     "name": "stdout",
     "output_type": "stream",
     "text": [
      "Fetching data for station ID: PEK\n",
      "Fetching data for station ID: SFO\n",
      "Done!\n"
     ]
    }
   ],
   "source": [
    "import csv\n",
    "import datetime\n",
    "import os\n",
    "import requests # this library makes html requests much simpler\n",
    "\n",
    "\n",
    "# add your API key (from wunderground) here\n",
    "api_key = \"your_key\"\n",
    "station_ids = [\"PEK\", \"SFO\",] # add more stations here if required\n",
    "\n",
    "with  open('geolookuptest.csv', 'wb') as outfile:\n",
    "            writer = csv.writer(outfile)\n",
    "            headers = ['city','country','station','lat','lon',] # edit these as required\n",
    "            writer.writerow(headers)\n",
    "            for station_id in station_ids:\n",
    "                print \"Fetching data for station ID: %s\" % station_id\n",
    "                url = (\"http://api.wunderground.com/api/%s/geolookup/conditions/q/%s.json\" %\n",
    "                              (api_key, station_id))\n",
    "                # make the request and parse json\n",
    "                data = requests.get(url).json()\n",
    "                # build your row\n",
    "                for location in data['location']:\n",
    "                    row = []\n",
    "                    row.append(str(data['location']['city']))\n",
    "                    row.append(str(data['location']['country']))\n",
    "                    row.append(station_id)\n",
    "                    row.append(str(data['location']['lat']))\n",
    "                    row.append(str(data['location']['lon'])) \n",
    "                    writer.writerow(row)\n",
    "\n",
    "print \"Done!\""
   ]
  },
  {
   "cell_type": "code",
   "execution_count": null,
   "metadata": {
    "collapsed": true
   },
   "outputs": [],
   "source": []
  },
  {
   "cell_type": "code",
   "execution_count": null,
   "metadata": {
    "collapsed": true
   },
   "outputs": [],
   "source": []
  }
 ],
 "metadata": {
  "kernelspec": {
   "display_name": "Python 2",
   "language": "python",
   "name": "python2"
  },
  "language_info": {
   "codemirror_mode": {
    "name": "ipython",
    "version": 2
   },
   "file_extension": ".py",
   "mimetype": "text/x-python",
   "name": "python",
   "nbconvert_exporter": "python",
   "pygments_lexer": "ipython2",
   "version": "2.7.10"
  }
 },
 "nbformat": 4,
 "nbformat_minor": 0
}
