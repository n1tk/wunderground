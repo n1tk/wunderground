{
 "cells": [
  {
   "cell_type": "code",
   "execution_count": 8,
   "metadata": {
    "collapsed": false
   },
   "outputs": [
    {
     "name": "stdout",
     "output_type": "stream",
     "text": [
      "City Zurich Country SW is: 72 F Lat: 47.38000107 and Lon: 8.56999969 based on StationID: [{u'city': u'Zurich Town / Ville.', u'country': u'Switzerland', u'lon': u'8.56583309', u'icao': u'', u'state': u'', u'lat': u'47.37777710'}, {u'city': u'Duebendorf', u'country': u'SW', u'lon': u'8.64823055', u'icao': u'LSMD', u'state': u'', u'lat': u'47.39864349'}, {u'city': u'Zurich Airport', u'country': u'SW', u'lon': u'8.53019714', u'icao': u'LSZH', u'state': u'', u'lat': u'47.47839355'}, {u'city': u'Emmen Airfield', u'country': u'SW', u'lon': u'8.30511665', u'icao': u'LSME', u'state': u'', u'lat': u'47.09236908'}] with ZipCode: 00000\n"
     ]
    }
   ],
   "source": [
    "from pandas import DataFrame, read_csv\n",
    "import pandas as pd \n",
    "import requests\n",
    "data = requests.get('http://api.wunderground.com/api/your_key/geolookup/conditions/q/Switzerland/Zurich.json').json()\n",
    "location = data['location']['city']\n",
    "loccountry = data['location']['country']\n",
    "latitude = data['location']['lat']\n",
    "longitude = data['location']['lon']\n",
    "datazip = data['location']['zip']\n",
    "temp_f = data['current_observation']['temp_f']\n",
    "station_id = data['location']['nearby_weather_stations']['airport']['station']\n",
    "print \"City %s Country %s is: %s F Lat: %s and Lon: %s based on StationID: %s with ZipCode: %s\" % (location, loccountry, temp_f, latitude,longitude, station_id, datazip )"
   ]
  }
 ],
 "metadata": {
  "kernelspec": {
   "display_name": "Python 2",
   "language": "python",
   "name": "python2"
  },
  "language_info": {
   "codemirror_mode": {
    "name": "ipython",
    "version": 2
   },
   "file_extension": ".py",
   "mimetype": "text/x-python",
   "name": "python",
   "nbconvert_exporter": "python",
   "pygments_lexer": "ipython2",
   "version": "2.7.10"
  }
 },
 "nbformat": 4,
 "nbformat_minor": 0
}
