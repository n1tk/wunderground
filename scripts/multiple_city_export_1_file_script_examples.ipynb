{
 "cells": [
  {
   "cell_type": "code",
   "execution_count": 44,
   "metadata": {
    "collapsed": false
   },
   "outputs": [
    {
     "name": "stdout",
     "output_type": "stream",
     "text": [
      "Fetching data for station ID: PEK\n",
      "Fetching data for station ID: SFO\n",
      "Done!\n"
     ]
    }
   ],
   "source": [
    "import csv\n",
    "import datetime\n",
    "import os\n",
    "\n",
    "import requests # this library makes html requests much simpler\n",
    "from datetime import date, timedelta\n",
    "\n",
    "# add your API key (from wunderground) here\n",
    "api_key = \"your_key\"\n",
    "station_ids = [\"PEK\", \"SFO\",] # add more stations here if required\n",
    "\n",
    "with  open('history.csv', 'wb') as outfile:\n",
    "            writer = csv.writer(outfile)\n",
    "            headers = ['date','meantempi','maxtempi','maxtempi','mintempi','humidity'] # edit these as required\n",
    "            writer.writerow(headers)\n",
    "            for station_id in station_ids:\n",
    "                print \"Fetching data for station ID: %s\" % station_id\n",
    "            # enter the first and last day required here\n",
    "                start_date = date.today() - timedelta(1)\n",
    "                end_date = date.today()\n",
    "\n",
    "                date = start_date\n",
    "                while date <= end_date:\n",
    "                    # format the date as YYYYMMDD\n",
    "                    date_string = date.strftime('%Y%m%d')\n",
    "                    # build the url\n",
    "                    url = (\"http://api.wunderground.com/api/%s/history_%s/q/%s.json\" %\n",
    "                              (api_key, date_string, station_id))\n",
    "                    # make the request and parse json\n",
    "                    data = requests.get(url).json()\n",
    "                    # build your row\n",
    "                    for history in data['history']['dailysummary']:\n",
    "                        row = []\n",
    "                        row.append(str(history['date']['pretty']))\n",
    "                        row.append(station_id)\n",
    "                        row.append(str(history['meantempi']))\n",
    "                        row.append(str(history['maxtempi'])) \n",
    "                        row.append(str(history['mintempi']))\n",
    "                        row.append(str(history['humidity']))\n",
    "                        writer.writerow(row)\n",
    "                    # increment the day by one\n",
    "                    date += datetime.timedelta(days=1)\n",
    "\n",
    "print \"Done!\""
   ]
  },
  {
   "cell_type": "code",
   "execution_count": 37,
   "metadata": {
    "collapsed": false
   },
   "outputs": [
    {
     "name": "stdout",
     "output_type": "stream",
     "text": [
      "City Zurich Country SW is: 68 C Lat: 47.38000107 and Lon: 8.56999969 based on StationID: [{u'city': u'Zurich Town / Ville.', u'country': u'Switzerland', u'lon': u'8.56583309', u'icao': u'', u'state': u'', u'lat': u'47.37777710'}, {u'city': u'Duebendorf', u'country': u'SW', u'lon': u'8.64823055', u'icao': u'LSMD', u'state': u'', u'lat': u'47.39864349'}, {u'city': u'Zurich Airport', u'country': u'SW', u'lon': u'8.53019714', u'icao': u'LSZH', u'state': u'', u'lat': u'47.47839355'}, {u'city': u'Emmen Airfield', u'country': u'SW', u'lon': u'8.30511665', u'icao': u'LSME', u'state': u'', u'lat': u'47.09236908'}]\n"
     ]
    }
   ],
   "source": [
    "import requests\n",
    "data = requests.get('http://api.wunderground.com/api/you_key/geolookup/conditions/q/Switzerland/Zurich.json').json()\n",
    "location = data['location']['city']\n",
    "loccountry = data['location']['country']\n",
    "latitude = data['location']['lat']\n",
    "longitude = data['location']['lon']\n",
    "temp_f = data['current_observation']['temp_f']\n",
    "print \"City %s Country %s is: %s C Lat: %s and Lon: %s based on StationID: %s\" % (location, loccountry, temp_f, latitude,longitude, station_id )"
   ]
  },
  {
   "cell_type": "code",
   "execution_count": 39,
   "metadata": {
    "collapsed": false
   },
   "outputs": [
    {
     "name": "stdout",
     "output_type": "stream",
     "text": [
      "City Zurich Country SW is: 68 C Lat: 47.38000107 and Lon: 8.56999969 based on StationID: [{u'city': u'Zurich Town / Ville.', u'country': u'Switzerland', u'lon': u'8.56583309', u'icao': u'', u'state': u'', u'lat': u'47.37777710'}, {u'city': u'Duebendorf', u'country': u'SW', u'lon': u'8.64823055', u'icao': u'LSMD', u'state': u'', u'lat': u'47.39864349'}, {u'city': u'Zurich Airport', u'country': u'SW', u'lon': u'8.53019714', u'icao': u'LSZH', u'state': u'', u'lat': u'47.47839355'}, {u'city': u'Emmen Airfield', u'country': u'SW', u'lon': u'8.30511665', u'icao': u'LSME', u'state': u'', u'lat': u'47.09236908'}]\n"
     ]
    }
   ],
   "source": [
    "import requests\n",
    "data = requests.get('http://api.wunderground.com/api/your_key/geolookup/conditions/q/Switzerland/Zurich.json').json()\n",
    "location = data['location']['city']\n",
    "loccountry = data['location']['country']\n",
    "latitude = data['location']['lat']\n",
    "longitude = data['location']['lon']\n",
    "temp_f = data['current_observation']['temp_f']\n",
    "print \"City %s Country %s is: %s C Lat: %s and Lon: %s based on StationID: %s\" % (location, loccountry, temp_f, latitude,longitude, station_id )\n"
   ]
  },
  {
   "cell_type": "code",
   "execution_count": null,
   "metadata": {
    "collapsed": true
   },
   "outputs": [],
   "source": []
  }
 ],
 "metadata": {
  "kernelspec": {
   "display_name": "Python 2",
   "language": "python",
   "name": "python2"
  },
  "language_info": {
   "codemirror_mode": {
    "name": "ipython",
    "version": 2
   },
   "file_extension": ".py",
   "mimetype": "text/x-python",
   "name": "python",
   "nbconvert_exporter": "python",
   "pygments_lexer": "ipython2",
   "version": "2.7.10"
  }
 },
 "nbformat": 4,
 "nbformat_minor": 0
}
